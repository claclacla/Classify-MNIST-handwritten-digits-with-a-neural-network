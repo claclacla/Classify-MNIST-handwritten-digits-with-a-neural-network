{
 "cells": [
  {
   "cell_type": "markdown",
   "metadata": {},
   "source": [
    "# Classify MNIST handwritten digits with a neural network"
   ]
  },
  {
   "cell_type": "markdown",
   "metadata": {},
   "source": [
    "The MNIST database (Modified National Institute of Standards and Technology database) of handwritten digits consists of a training set of 60,000 examples, and a test set of 10,000 examples.\n",
    "\n",
    "The images from the data set have the size 28 x 28.\n",
    "\n",
    "Here's some example images to work with:"
   ]
  },
  {
   "cell_type": "markdown",
   "metadata": {},
   "source": [
    "![title](images/MNIST.png)"
   ]
  },
  {
   "cell_type": "code",
   "execution_count": 43,
   "metadata": {},
   "outputs": [],
   "source": [
    "import struct\n",
    "from matplotlib import pyplot as plt\n",
    "\n",
    "from lib.mnist.get_mnist_images import get_mnist_images\n",
    "from lib.mnist.get_mnist_labels import get_mnist_labels"
   ]
  },
  {
   "cell_type": "markdown",
   "metadata": {},
   "source": [
    "Read the MNIST dataset and create the list of tuples containing the raw image and the label of the number"
   ]
  },
  {
   "cell_type": "code",
   "execution_count": 44,
   "metadata": {},
   "outputs": [],
   "source": [
    "MNIST_IMAGES = \"dataset/t10k-images-idx3-ubyte\"\n",
    "MNIST_LABELS = \"dataset/t10k-labels-idx1-ubyte\"\n",
    "\n",
    "def get_mnist_data():\n",
    "    mnist_images = get_mnist_images(MNIST_IMAGES)\n",
    "    mnist_labels = get_mnist_labels(MNIST_LABELS)\n",
    "    \n",
    "    return list(zip(mnist_images, mnist_labels))"
   ]
  },
  {
   "cell_type": "code",
   "execution_count": 45,
   "metadata": {},
   "outputs": [],
   "source": [
    "# mnist_data = get_mnist_data()\n",
    "# mnist_data[0]"
   ]
  },
  {
   "cell_type": "code",
   "execution_count": null,
   "metadata": {},
   "outputs": [],
   "source": []
  }
 ],
 "metadata": {
  "kernelspec": {
   "display_name": "Python 3",
   "language": "python",
   "name": "python3"
  },
  "language_info": {
   "codemirror_mode": {
    "name": "ipython",
    "version": 3
   },
   "file_extension": ".py",
   "mimetype": "text/x-python",
   "name": "python",
   "nbconvert_exporter": "python",
   "pygments_lexer": "ipython3",
   "version": "3.6.4"
  }
 },
 "nbformat": 4,
 "nbformat_minor": 2
}
